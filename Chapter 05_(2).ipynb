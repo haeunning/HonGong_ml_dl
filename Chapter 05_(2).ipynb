{
 "cells": [
  {
   "cell_type": "markdown",
   "id": "9414ec55",
   "metadata": {},
   "source": [
    "# Chapter 05. 트리 알고리즘"
   ]
  },
  {
   "cell_type": "markdown",
   "id": "1daf625f",
   "metadata": {},
   "source": [
    "## 05-2. 교차 검증과 그리드 서치"
   ]
  },
  {
   "cell_type": "markdown",
   "id": "cda4391b",
   "metadata": {},
   "source": [
    "### Validation set\n",
    "- test set 으로 자꾸 성능을 확인하게 되면 과대적합이 발생할 수 있다.\n",
    "- 일반화 성능을 올바르게 측정하기 위해 검증 세트 도입.\n",
    "- 모델 성능 평가 과정 <br>\n",
    "  훈련 세트에서 훈련하고, 검증 세트에서 모델을 평가한다. <br>\n",
    "  여러 매개변수의 경우 중 가장 성능이 좋은 모델을 골라 훈련 세트에서 다시 훈련한다."
   ]
  },
  {
   "cell_type": "markdown",
   "id": "ae75f3be",
   "metadata": {},
   "source": [
    "#### 데이터 불러오기"
   ]
  },
  {
   "cell_type": "code",
   "execution_count": 1,
   "id": "9b694e39",
   "metadata": {},
   "outputs": [],
   "source": [
    "import pandas as pd\n",
    "wine = pd.read_csv('http://bit.ly/wine_csv_data')"
   ]
  },
  {
   "cell_type": "code",
   "execution_count": 2,
   "id": "39aada97",
   "metadata": {},
   "outputs": [],
   "source": [
    "data = wine [['alcohol','sugar','pH']].to_numpy()\n",
    "target = wine['class'].to_numpy()"
   ]
  },
  {
   "cell_type": "code",
   "execution_count": 3,
   "id": "8aee4d8b",
   "metadata": {},
   "outputs": [],
   "source": [
    "from sklearn.model_selection import train_test_split\n",
    "train_input, test_input, train_target, test_target = train_test_split(data, target, test_size=0.2, random_state=42)"
   ]
  },
  {
   "cell_type": "code",
   "execution_count": 4,
   "id": "b5ccce2e",
   "metadata": {},
   "outputs": [],
   "source": [
    "# validation set 설정 (train set에서 다시 쪼개기)\n",
    "sub_input, val_input, sub_target, var_target = train_test_split(train_input, train_target, test_size=0.2, random_state=42)"
   ]
  },
  {
   "cell_type": "code",
   "execution_count": 5,
   "id": "47c5ca59",
   "metadata": {
    "scrolled": true
   },
   "outputs": [
    {
     "name": "stdout",
     "output_type": "stream",
     "text": [
      "(4157, 3) (1040, 3)\n"
     ]
    }
   ],
   "source": [
    "print(sub_input.shape, val_input.shape)"
   ]
  },
  {
   "cell_type": "markdown",
   "id": "3f9a49e9",
   "metadata": {},
   "source": [
    "#### 의사결정나무 분류"
   ]
  },
  {
   "cell_type": "code",
   "execution_count": 6,
   "id": "666325c8",
   "metadata": {},
   "outputs": [],
   "source": [
    "from sklearn.tree import DecisionTreeClassifier"
   ]
  },
  {
   "cell_type": "code",
   "execution_count": 7,
   "id": "ef0b3070",
   "metadata": {},
   "outputs": [],
   "source": [
    "dt = DecisionTreeClassifier(random_state=42)"
   ]
  },
  {
   "cell_type": "code",
   "execution_count": 8,
   "id": "f4095224",
   "metadata": {},
   "outputs": [
    {
     "data": {
      "text/plain": [
       "DecisionTreeClassifier(random_state=42)"
      ]
     },
     "execution_count": 8,
     "metadata": {},
     "output_type": "execute_result"
    }
   ],
   "source": [
    "dt.fit(sub_input, sub_target)"
   ]
  },
  {
   "cell_type": "code",
   "execution_count": 9,
   "id": "e0a9bc27",
   "metadata": {},
   "outputs": [
    {
     "name": "stdout",
     "output_type": "stream",
     "text": [
      "0.9971133028626413\n"
     ]
    }
   ],
   "source": [
    "print(dt.score(sub_input, sub_target))"
   ]
  },
  {
   "cell_type": "code",
   "execution_count": 10,
   "id": "73a29507",
   "metadata": {},
   "outputs": [
    {
     "name": "stdout",
     "output_type": "stream",
     "text": [
      "0.864423076923077\n"
     ]
    }
   ],
   "source": [
    "print(dt.score(val_input, var_target))"
   ]
  },
  {
   "cell_type": "markdown",
   "id": "7c2a36e7",
   "metadata": {},
   "source": [
    "### Cross Validation\n",
    "- 교차 검증을 이용하면 안정적인 검증 점수를 얻고 훈련에 더 많은 데이터를 사용할 수 있다.\n",
    "- 교차 검증 과정 <br>\n",
    "  훈련 세트에서 검증 세트를 떼어 내어 평가하는 과정을 여러 번 반복한다. <br>\n",
    "  반복하면서 나온 검증 점수들을 평균하여 최종 검증 점수를 얻는다.\n",
    "<br><br>\n",
    "- 교차 검증 함수 : cross_validate() => default : 5-Fold Cross Validation <br>\n",
    "     fit_time : 모델 훈련 시간 <br>\n",
    "     score_time : 검증 시간 <br>\n",
    "     test_score : 교차 검증 점수 ( 최종 교차 검증 점수는 평균해야함 : np.mean(scores['test_score']) )\n",
    "<br><br>\n",
    "- 교차 검증 종류 : K-Fold Cross Validation // StratifiedKFold Cross Validation\n",
    "- K-Fold Cross Validation <br>\n",
    "  : 회귀 모델인 경우 사용\n",
    "- StratifiedKFold Cross Validation <br>\n",
    "  : 분류 모델인 경우 사용 <br>\n",
    "  : 불균형 분포도를 가진 레이블 집합을 위한 K-Fold 방식"
   ]
  },
  {
   "cell_type": "markdown",
   "id": "4de38109",
   "metadata": {},
   "source": [
    "#### 5-Fold Cross Validation"
   ]
  },
  {
   "cell_type": "code",
   "execution_count": 11,
   "id": "47c5c4b9",
   "metadata": {},
   "outputs": [],
   "source": [
    "from sklearn.model_selection import cross_validate"
   ]
  },
  {
   "cell_type": "code",
   "execution_count": 12,
   "id": "c3aed642",
   "metadata": {},
   "outputs": [],
   "source": [
    "scores = cross_validate(dt, train_input, train_target)"
   ]
  },
  {
   "cell_type": "code",
   "execution_count": 13,
   "id": "d2ddfb2d",
   "metadata": {},
   "outputs": [
    {
     "name": "stdout",
     "output_type": "stream",
     "text": [
      "{'fit_time': array([0.00998878, 0.00697947, 0.00897598, 0.00598383, 0.00698137]), 'score_time': array([0.00098205, 0.        , 0.00099754, 0.00099754, 0.        ]), 'test_score': array([0.86923077, 0.84615385, 0.87680462, 0.84889317, 0.83541867])}\n"
     ]
    }
   ],
   "source": [
    "print(scores)"
   ]
  },
  {
   "cell_type": "code",
   "execution_count": 14,
   "id": "682eda25",
   "metadata": {},
   "outputs": [
    {
     "name": "stdout",
     "output_type": "stream",
     "text": [
      "0.855300214703487\n"
     ]
    }
   ],
   "source": [
    "import numpy as np\n",
    "print(np.mean(scores['test_score']))   # 교차 검증의 최종 점수"
   ]
  },
  {
   "cell_type": "markdown",
   "id": "67285d5b",
   "metadata": {},
   "source": [
    "#### StratifiedKFold\n",
    "- cross_validate()는 데이터를 섞지 않는다. <br>\n",
    "  train_target_split()을 사용하지 않고 바로 교차 검증을 들어가는 경우 반드시 분할기(splitter)을 지정해야 한다."
   ]
  },
  {
   "cell_type": "code",
   "execution_count": 15,
   "id": "23ced0d0",
   "metadata": {},
   "outputs": [
    {
     "name": "stdout",
     "output_type": "stream",
     "text": [
      "0.855300214703487\n"
     ]
    }
   ],
   "source": [
    "from sklearn.model_selection import StratifiedKFold\n",
    "scores = cross_validate(dt, train_input, train_target, cv=StratifiedKFold())\n",
    "print(np.mean(scores['test_score']))"
   ]
  },
  {
   "cell_type": "code",
   "execution_count": 16,
   "id": "6bccdb6c",
   "metadata": {},
   "outputs": [
    {
     "name": "stdout",
     "output_type": "stream",
     "text": [
      "0.8574181117533719\n"
     ]
    }
   ],
   "source": [
    "splitter = StratifiedKFold(n_splits=10, shuffle=True, random_state=42)   # n_splits=10 : 10-Fold Cross Validation\n",
    "scores = cross_validate(dt, train_input, train_target, cv=splitter)\n",
    "print(np.mean(scores['test_score']))"
   ]
  },
  {
   "cell_type": "markdown",
   "id": "8fe095d8",
   "metadata": {},
   "source": [
    "### HyperParameter Tuning\n",
    "- 사용자가 지정하는 파라미터\n",
    "- 여러 경우의 수를 이용하여 최적의 값을 찾아 모델의 성능을 올려야 한다. <br>\n",
    "  이때 그리드 서치(Grid Search)를 이용하여 매개변수의 여러 경우의 수를 따져본다.\n",
    "<br><br>\n",
    "- Grid Search <br>\n",
    "  : best_estimator_ 속성에 검증 점수가 가장 높은 모델이 저장되어 있다. <br>\n",
    "  : best_params_ 속성에 검증 점수가 가장 높은 최적의 매개변수 조합이 저장되어 있다. <br>\n",
    "  : model.cv_results_['mean_test_score'] 에 각 매개변수 조합으로 수행한 교차 검증의 평균 점수가 저장되어 있다. <br>\n",
    "  : n_jobs 컴퓨터의 CPU 코어 수를 지정하는 매개변수 (코어 수에 비례해 속도가 빨라짐. default=1)"
   ]
  },
  {
   "cell_type": "markdown",
   "id": "e0534d9a",
   "metadata": {},
   "source": [
    "#### Grid Search"
   ]
  },
  {
   "cell_type": "code",
   "execution_count": 17,
   "id": "91760d58",
   "metadata": {},
   "outputs": [],
   "source": [
    "from sklearn.model_selection import GridSearchCV"
   ]
  },
  {
   "cell_type": "code",
   "execution_count": 18,
   "id": "0b46fbc9",
   "metadata": {},
   "outputs": [],
   "source": [
    "params = {'min_impurity_decrease':[0.0001, 0.0002, 0.0003, 0.0004, 0.0005]}"
   ]
  },
  {
   "cell_type": "code",
   "execution_count": 19,
   "id": "13113c51",
   "metadata": {},
   "outputs": [],
   "source": [
    "gs = GridSearchCV(DecisionTreeClassifier(random_state=42), params, n_jobs=-1)   # n_jobs=-1 : 시스템에 있는 모든 코어 사용"
   ]
  },
  {
   "cell_type": "code",
   "execution_count": 20,
   "id": "e6217574",
   "metadata": {},
   "outputs": [
    {
     "data": {
      "text/plain": [
       "GridSearchCV(estimator=DecisionTreeClassifier(random_state=42), n_jobs=-1,\n",
       "             param_grid={'min_impurity_decrease': [0.0001, 0.0002, 0.0003,\n",
       "                                                   0.0004, 0.0005]})"
      ]
     },
     "execution_count": 20,
     "metadata": {},
     "output_type": "execute_result"
    }
   ],
   "source": [
    "gs.fit(train_input, train_target)"
   ]
  },
  {
   "cell_type": "code",
   "execution_count": 21,
   "id": "aa684127",
   "metadata": {},
   "outputs": [],
   "source": [
    "dt = gs.best_estimator_"
   ]
  },
  {
   "cell_type": "code",
   "execution_count": 22,
   "id": "8e211090",
   "metadata": {},
   "outputs": [
    {
     "name": "stdout",
     "output_type": "stream",
     "text": [
      "0.9615162593804117\n"
     ]
    }
   ],
   "source": [
    "print(dt.score(train_input, train_target))"
   ]
  },
  {
   "cell_type": "code",
   "execution_count": 23,
   "id": "6d45b840",
   "metadata": {},
   "outputs": [
    {
     "name": "stdout",
     "output_type": "stream",
     "text": [
      "{'min_impurity_decrease': 0.0001}\n"
     ]
    }
   ],
   "source": [
    "print(gs.best_params_)"
   ]
  },
  {
   "cell_type": "code",
   "execution_count": 24,
   "id": "cb809134",
   "metadata": {},
   "outputs": [
    {
     "name": "stdout",
     "output_type": "stream",
     "text": [
      "[0.86819297 0.86453617 0.86492226 0.86780891 0.86761605]\n"
     ]
    }
   ],
   "source": [
    "print(gs.cv_results_['mean_test_score'])   # 가장 큰 score가 최종 교차 검증 모델 (아래에서 넘파이 함수로 쉽게 구하기)"
   ]
  },
  {
   "cell_type": "code",
   "execution_count": 25,
   "id": "f356145c",
   "metadata": {},
   "outputs": [
    {
     "name": "stdout",
     "output_type": "stream",
     "text": [
      "{'min_impurity_decrease': 0.0001}\n"
     ]
    }
   ],
   "source": [
    "best_index = np.argmax(gs.cv_results_['mean_test_score'])\n",
    "print(gs.cv_results_['params'][best_index])"
   ]
  },
  {
   "cell_type": "markdown",
   "id": "ecc1f531",
   "metadata": {},
   "source": [
    "#### 더 복잡한 매개변수 조합 탐색"
   ]
  },
  {
   "cell_type": "code",
   "execution_count": 26,
   "id": "9bb3d6c1",
   "metadata": {},
   "outputs": [],
   "source": [
    "params = {'min_impurity_decrease':np.arange(0.0001, 0.001, 0.0001),\n",
    "          'max_depth': range(5, 20, 1),\n",
    "          'min_samples_split': range(2, 100, 10)}"
   ]
  },
  {
   "cell_type": "code",
   "execution_count": 27,
   "id": "0c40f98a",
   "metadata": {},
   "outputs": [
    {
     "data": {
      "text/plain": [
       "GridSearchCV(estimator=DecisionTreeClassifier(random_state=42), n_jobs=-1,\n",
       "             param_grid={'max_depth': range(5, 20),\n",
       "                         'min_impurity_decrease': array([0.0001, 0.0002, 0.0003, 0.0004, 0.0005, 0.0006, 0.0007, 0.0008,\n",
       "       0.0009]),\n",
       "                         'min_samples_split': range(2, 100, 10)})"
      ]
     },
     "execution_count": 27,
     "metadata": {},
     "output_type": "execute_result"
    }
   ],
   "source": [
    "gs = GridSearchCV(DecisionTreeClassifier(random_state=42), params, n_jobs=-1)\n",
    "gs.fit(train_input, train_target)"
   ]
  },
  {
   "cell_type": "code",
   "execution_count": 28,
   "id": "46a8b1a4",
   "metadata": {},
   "outputs": [
    {
     "name": "stdout",
     "output_type": "stream",
     "text": [
      "{'max_depth': 14, 'min_impurity_decrease': 0.0004, 'min_samples_split': 12}\n"
     ]
    }
   ],
   "source": [
    "print(gs.best_params_)"
   ]
  },
  {
   "cell_type": "code",
   "execution_count": 29,
   "id": "1a02eb3e",
   "metadata": {},
   "outputs": [
    {
     "name": "stdout",
     "output_type": "stream",
     "text": [
      "0.8683865773302731\n"
     ]
    }
   ],
   "source": [
    "print(np.max(gs.cv_results_['mean_test_score']))"
   ]
  },
  {
   "cell_type": "markdown",
   "id": "a79fa183",
   "metadata": {},
   "source": [
    "### Random Search\n",
    "- 랜덤 서치는 매개변수를 샘플링할 수 있는 확률 분포를 객체에 전달한다. <br>\n",
    "  즉 매개변수 샘플링을 고르게 할 수 있다. (임의로 간격을 지정하지 않아도 된다.)"
   ]
  },
  {
   "cell_type": "code",
   "execution_count": 30,
   "id": "d6f3df83",
   "metadata": {},
   "outputs": [],
   "source": [
    "from scipy.stats import uniform, randint"
   ]
  },
  {
   "cell_type": "markdown",
   "id": "a28452c6",
   "metadata": {},
   "source": [
    "#### randint, uniform 예시"
   ]
  },
  {
   "cell_type": "code",
   "execution_count": 31,
   "id": "02f5a27c",
   "metadata": {},
   "outputs": [
    {
     "data": {
      "text/plain": [
       "array([7, 3, 9, 4, 1, 6, 0, 9, 5, 2])"
      ]
     },
     "execution_count": 31,
     "metadata": {},
     "output_type": "execute_result"
    }
   ],
   "source": [
    "rgen = randint(0,10)\n",
    "rgen.rvs(10)"
   ]
  },
  {
   "cell_type": "code",
   "execution_count": 32,
   "id": "573a296f",
   "metadata": {},
   "outputs": [
    {
     "data": {
      "text/plain": [
       "(array([0, 1, 2, 3, 4, 5, 6, 7, 8, 9]),\n",
       " array([ 92, 110,  96,  98, 105,  96,  97,  88, 118, 100], dtype=int64))"
      ]
     },
     "execution_count": 32,
     "metadata": {},
     "output_type": "execute_result"
    }
   ],
   "source": [
    "np.unique(rgen.rvs(1000), return_counts=True)"
   ]
  },
  {
   "cell_type": "code",
   "execution_count": 33,
   "id": "1314bfe0",
   "metadata": {},
   "outputs": [
    {
     "data": {
      "text/plain": [
       "array([0.02361803, 0.91883422, 0.76530481, 0.52323127, 0.17039236,\n",
       "       0.08657267, 0.72483092, 0.30700134, 0.81383747, 0.29706654])"
      ]
     },
     "execution_count": 33,
     "metadata": {},
     "output_type": "execute_result"
    }
   ],
   "source": [
    "ugen = uniform(0,1)\n",
    "ugen.rvs(10)"
   ]
  },
  {
   "cell_type": "markdown",
   "id": "3e78d023",
   "metadata": {},
   "source": [
    "#### 랜덤 서치와 그리드 서치를 이용한 매개변수 조합 탐색"
   ]
  },
  {
   "cell_type": "code",
   "execution_count": 34,
   "id": "db521f0e",
   "metadata": {},
   "outputs": [],
   "source": [
    "params = {'min_impurity_decrease':uniform(0.0001, 0.001),\n",
    "          'max_depth': randint(20,50),\n",
    "          'min_samples_split': randint(2,25),\n",
    "          'min_samples_leaf': randint(1,25)}"
   ]
  },
  {
   "cell_type": "code",
   "execution_count": 35,
   "id": "f2a1ed5d",
   "metadata": {},
   "outputs": [],
   "source": [
    "from sklearn.model_selection import RandomizedSearchCV"
   ]
  },
  {
   "cell_type": "code",
   "execution_count": 36,
   "id": "d1ce7034",
   "metadata": {},
   "outputs": [],
   "source": [
    "gs = RandomizedSearchCV(DecisionTreeClassifier(random_state=42), params, n_iter=100, n_jobs=-1, random_state=42)\n",
    "# n_iter=100 : 매개변수 범위 안에서 총 100번 샘플링"
   ]
  },
  {
   "cell_type": "code",
   "execution_count": 37,
   "id": "cb71c406",
   "metadata": {},
   "outputs": [
    {
     "data": {
      "text/plain": [
       "RandomizedSearchCV(estimator=DecisionTreeClassifier(random_state=42),\n",
       "                   n_iter=100, n_jobs=-1,\n",
       "                   param_distributions={'max_depth': <scipy.stats._distn_infrastructure.rv_frozen object at 0x000001EA75C5C0A0>,\n",
       "                                        'min_impurity_decrease': <scipy.stats._distn_infrastructure.rv_frozen object at 0x000001EA75BC81F0>,\n",
       "                                        'min_samples_leaf': <scipy.stats._distn_infrastructure.rv_frozen object at 0x000001EA75C5C730>,\n",
       "                                        'min_samples_split': <scipy.stats._distn_infrastructure.rv_frozen object at 0x000001EA75BC8880>},\n",
       "                   random_state=42)"
      ]
     },
     "execution_count": 37,
     "metadata": {},
     "output_type": "execute_result"
    }
   ],
   "source": [
    "gs.fit(train_input, train_target)"
   ]
  },
  {
   "cell_type": "code",
   "execution_count": 38,
   "id": "1e6756e2",
   "metadata": {},
   "outputs": [
    {
     "name": "stdout",
     "output_type": "stream",
     "text": [
      "{'max_depth': 39, 'min_impurity_decrease': 0.00034102546602601173, 'min_samples_leaf': 7, 'min_samples_split': 13}\n"
     ]
    }
   ],
   "source": [
    "print(gs.best_params_)"
   ]
  },
  {
   "cell_type": "code",
   "execution_count": 39,
   "id": "2b2718bf",
   "metadata": {},
   "outputs": [
    {
     "name": "stdout",
     "output_type": "stream",
     "text": [
      "0.8695428296438884\n"
     ]
    }
   ],
   "source": [
    "print(np.max(gs.cv_results_['mean_test_score']))"
   ]
  },
  {
   "cell_type": "code",
   "execution_count": 40,
   "id": "978a28c7",
   "metadata": {
    "scrolled": true
   },
   "outputs": [
    {
     "name": "stdout",
     "output_type": "stream",
     "text": [
      "0.8928227823744468\n"
     ]
    }
   ],
   "source": [
    "dt = gs.best_estimator_\n",
    "print(dt.score(train_input, train_target))"
   ]
  },
  {
   "cell_type": "markdown",
   "id": "c0023d8a",
   "metadata": {},
   "source": [
    "#### 번외\n",
    "- DecisionTreeClassifier에 매개변수 splitter='random'를 추가하면 성능이 어떻게 될까?"
   ]
  },
  {
   "cell_type": "code",
   "execution_count": 41,
   "id": "b4a2ff3f",
   "metadata": {},
   "outputs": [],
   "source": [
    "from sklearn.model_selection import RandomizedSearchCV\n",
    "gs = RandomizedSearchCV(DecisionTreeClassifier(random_state=42, splitter='random'), params, n_iter=100, n_jobs=-1,\n",
    "                        random_state=42)   "
   ]
  },
  {
   "cell_type": "code",
   "execution_count": 42,
   "id": "87cb0dcd",
   "metadata": {},
   "outputs": [
    {
     "data": {
      "text/plain": [
       "RandomizedSearchCV(estimator=DecisionTreeClassifier(random_state=42,\n",
       "                                                    splitter='random'),\n",
       "                   n_iter=100, n_jobs=-1,\n",
       "                   param_distributions={'max_depth': <scipy.stats._distn_infrastructure.rv_frozen object at 0x000001EA75C5C0A0>,\n",
       "                                        'min_impurity_decrease': <scipy.stats._distn_infrastructure.rv_frozen object at 0x000001EA75BC81F0>,\n",
       "                                        'min_samples_leaf': <scipy.stats._distn_infrastructure.rv_frozen object at 0x000001EA75C5C730>,\n",
       "                                        'min_samples_split': <scipy.stats._distn_infrastructure.rv_frozen object at 0x000001EA75BC8880>},\n",
       "                   random_state=42)"
      ]
     },
     "execution_count": 42,
     "metadata": {},
     "output_type": "execute_result"
    }
   ],
   "source": [
    "gs.fit(train_input, train_target)"
   ]
  },
  {
   "cell_type": "code",
   "execution_count": 43,
   "id": "2ecced57",
   "metadata": {},
   "outputs": [
    {
     "name": "stdout",
     "output_type": "stream",
     "text": [
      "0.8043101789493938\n"
     ]
    }
   ],
   "source": [
    "dt = gs.best_estimator_\n",
    "print(dt.score(train_input, train_target))"
   ]
  },
  {
   "cell_type": "markdown",
   "id": "f18c3817",
   "metadata": {},
   "source": [
    "#### 성능이 약 0.09 떨어진다."
   ]
  }
 ],
 "metadata": {
  "kernelspec": {
   "display_name": "Python 3 (ipykernel)",
   "language": "python",
   "name": "python3"
  },
  "language_info": {
   "codemirror_mode": {
    "name": "ipython",
    "version": 3
   },
   "file_extension": ".py",
   "mimetype": "text/x-python",
   "name": "python",
   "nbconvert_exporter": "python",
   "pygments_lexer": "ipython3",
   "version": "3.9.7"
  }
 },
 "nbformat": 4,
 "nbformat_minor": 5
}
