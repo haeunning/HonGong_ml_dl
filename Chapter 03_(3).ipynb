{
 "cells": [
  {
   "cell_type": "markdown",
   "id": "1a244439",
   "metadata": {},
   "source": [
    "# Chapter 03. 회귀 알고리즘과 모델 규제"
   ]
  },
  {
   "cell_type": "markdown",
   "id": "77fdf953",
   "metadata": {},
   "source": [
    "## 03-3. 특성 공학과 규제\n",
    "- 다중회귀의 특성공학\n",
    "- 과대적합을 막기 위한 릿지 / 라쏘 회귀"
   ]
  },
  {
   "cell_type": "markdown",
   "id": "f983c2aa",
   "metadata": {},
   "source": [
    "#### Multiple Regression 다중 회귀\n",
    "- 여러 개의 특성을 사용한 선형 회귀\n",
    "- 특성이 많은 고차원에서는 선형 회귀가 매우 복잡한 모델을 표현할 수 있다.\n",
    "\n",
    "#### Feature Engineering 특성공학\n",
    "- 기존의 특성을 사용해 새로운 특성을 뽑아내는 작업\n",
    "- 사이킷런에서는 변환기가 특성을 만들거나 전처리를 담당<br>\n",
    "  => PolynomialFeature 클래스"
   ]
  },
  {
   "cell_type": "markdown",
   "id": "5e685a74",
   "metadata": {},
   "source": [
    "#### 데이터 준비\n",
    "- pandas의 dataframe 구조 이용 <br>\n",
    "- pandas는 인터넷에서 데이터를 바로 다운로드하여 사용할 수 있음\n",
    "<br><br>\n",
    "- dataframe -> numpy array : to_numpy()"
   ]
  },
  {
   "cell_type": "code",
   "execution_count": 1,
   "id": "361c2dac",
   "metadata": {},
   "outputs": [],
   "source": [
    "import pandas as pd"
   ]
  },
  {
   "cell_type": "code",
   "execution_count": 2,
   "id": "92b05f5b",
   "metadata": {},
   "outputs": [],
   "source": [
    "df = pd.read_csv('http://bit.ly/perch_csv_data')"
   ]
  },
  {
   "cell_type": "code",
   "execution_count": 3,
   "id": "1d625335",
   "metadata": {},
   "outputs": [
    {
     "name": "stdout",
     "output_type": "stream",
     "text": [
      "[[ 8.4   2.11  1.41]\n",
      " [13.7   3.53  2.  ]\n",
      " [15.    3.82  2.43]\n",
      " [16.2   4.59  2.63]\n",
      " [17.4   4.59  2.94]\n",
      " [18.    5.22  3.32]\n",
      " [18.7   5.2   3.12]\n",
      " [19.    5.64  3.05]\n",
      " [19.6   5.14  3.04]\n",
      " [20.    5.08  2.77]\n",
      " [21.    5.69  3.56]\n",
      " [21.    5.92  3.31]\n",
      " [21.    5.69  3.67]\n",
      " [21.3   6.38  3.53]\n",
      " [22.    6.11  3.41]\n",
      " [22.    5.64  3.52]\n",
      " [22.    6.11  3.52]\n",
      " [22.    5.88  3.52]\n",
      " [22.    5.52  4.  ]\n",
      " [22.5   5.86  3.62]\n",
      " [22.5   6.79  3.62]\n",
      " [22.7   5.95  3.63]\n",
      " [23.    5.22  3.63]\n",
      " [23.5   6.28  3.72]\n",
      " [24.    7.29  3.72]\n",
      " [24.    6.38  3.82]\n",
      " [24.6   6.73  4.17]\n",
      " [25.    6.44  3.68]\n",
      " [25.6   6.56  4.24]\n",
      " [26.5   7.17  4.14]\n",
      " [27.3   8.32  5.14]\n",
      " [27.5   7.17  4.34]\n",
      " [27.5   7.05  4.34]\n",
      " [27.5   7.28  4.57]\n",
      " [28.    7.82  4.2 ]\n",
      " [28.7   7.59  4.64]\n",
      " [30.    7.62  4.77]\n",
      " [32.8  10.03  6.02]\n",
      " [34.5  10.26  6.39]\n",
      " [35.   11.49  7.8 ]\n",
      " [36.5  10.88  6.86]\n",
      " [36.   10.61  6.74]\n",
      " [37.   10.84  6.26]\n",
      " [37.   10.57  6.37]\n",
      " [39.   11.14  7.49]\n",
      " [39.   11.14  6.  ]\n",
      " [39.   12.43  7.35]\n",
      " [40.   11.93  7.11]\n",
      " [40.   11.73  7.22]\n",
      " [40.   12.38  7.46]\n",
      " [40.   11.14  6.63]\n",
      " [42.   12.8   6.87]\n",
      " [43.   11.93  7.28]\n",
      " [43.   12.51  7.42]\n",
      " [43.5  12.6   8.14]\n",
      " [44.   12.49  7.6 ]]\n"
     ]
    }
   ],
   "source": [
    "perch_full = df.to_numpy()\n",
    "print(perch_full)"
   ]
  },
  {
   "cell_type": "code",
   "execution_count": 4,
   "id": "a652819e",
   "metadata": {},
   "outputs": [],
   "source": [
    "import numpy as np"
   ]
  },
  {
   "cell_type": "code",
   "execution_count": 5,
   "id": "064125ce",
   "metadata": {},
   "outputs": [],
   "source": [
    "perch_weight = np.array([5.9, 32.0, 40.0, 51.5, 70.0, 100.0, 78.0, 80.0, 85.0, 85.0, 110.0,\n",
    "       115.0, 125.0, 130.0, 120.0, 120.0, 130.0, 135.0, 110.0, 130.0,\n",
    "       150.0, 145.0, 150.0, 170.0, 225.0, 145.0, 188.0, 180.0, 197.0,\n",
    "       218.0, 300.0, 260.0, 265.0, 250.0, 250.0, 300.0, 320.0, 514.0,\n",
    "       556.0, 840.0, 685.0, 700.0, 700.0, 690.0, 900.0, 650.0, 820.0,\n",
    "       850.0, 900.0, 1015.0, 820.0, 1100.0, 1000.0, 1100.0, 1000.0,\n",
    "       1000.0])"
   ]
  },
  {
   "cell_type": "markdown",
   "id": "15a4ae77",
   "metadata": {},
   "source": [
    "#### Train / Test set split"
   ]
  },
  {
   "cell_type": "code",
   "execution_count": 6,
   "id": "aaaba53e",
   "metadata": {},
   "outputs": [],
   "source": [
    "from sklearn.model_selection import train_test_split"
   ]
  },
  {
   "cell_type": "code",
   "execution_count": 7,
   "id": "4e5d2e17",
   "metadata": {},
   "outputs": [],
   "source": [
    "train_input, test_input, train_target, test_target = train_test_split(perch_full, perch_weight, random_state=42)"
   ]
  },
  {
   "cell_type": "markdown",
   "id": "69559cbe",
   "metadata": {},
   "source": [
    "#### 사이킷런의 변환기 transformer\n",
    "- 사이킷런은 특성을 만들거나 전처리 하기 위한 다양한 클래스 제공 : 변환기 transformer <br>\n",
    "  => 변환기 중 하나 PolynomialFeatures \n",
    "<br><br>\n",
    "- 객체 생성 => fit() => transform()"
   ]
  },
  {
   "cell_type": "code",
   "execution_count": 8,
   "id": "855be96e",
   "metadata": {},
   "outputs": [],
   "source": [
    "from sklearn.preprocessing import PolynomialFeatures"
   ]
  },
  {
   "cell_type": "code",
   "execution_count": 9,
   "id": "2725716b",
   "metadata": {},
   "outputs": [
    {
     "name": "stdout",
     "output_type": "stream",
     "text": [
      "(42, 3)\n"
     ]
    }
   ],
   "source": [
    "poly = PolynomialFeatures(include_bias=False)  #객체 생성 #include_bias 옵션 : 사이킷런 선형모델은 자동으로 절편을 추가 \n",
    "poly.fit(train_input)   #fit()\n",
    "train_poly = poly.transform(train_input) #transform()\n",
    "print(train_input.shape) #배열 크기 확인"
   ]
  },
  {
   "cell_type": "code",
   "execution_count": 10,
   "id": "6c960401",
   "metadata": {},
   "outputs": [
    {
     "data": {
      "text/plain": [
       "['x0', 'x1', 'x2', 'x0^2', 'x0 x1', 'x0 x2', 'x1^2', 'x1 x2', 'x2^2']"
      ]
     },
     "execution_count": 10,
     "metadata": {},
     "output_type": "execute_result"
    }
   ],
   "source": [
    "poly.get_feature_names()"
   ]
  },
  {
   "cell_type": "code",
   "execution_count": 11,
   "id": "971b3dfb",
   "metadata": {},
   "outputs": [],
   "source": [
    "test_poly = poly.transform(test_input)   #항상 훈련세트 기준으로 테스트세트 변환해야한다."
   ]
  },
  {
   "cell_type": "markdown",
   "id": "9ed05fde",
   "metadata": {},
   "source": [
    "#### 다중 회귀 모델 훈련하기\n",
    "- 다중 회귀 모델을 훈련하는 것은 선형 회귀 모델을 훈련하는 것과 같음<br>\n",
    "  다중 회귀 모델은 여러 특성을 활용하여 선형 회귀를 수행하는 것"
   ]
  },
  {
   "cell_type": "code",
   "execution_count": 12,
   "id": "99a16e3c",
   "metadata": {},
   "outputs": [],
   "source": [
    "from sklearn.linear_model import LinearRegression"
   ]
  },
  {
   "cell_type": "code",
   "execution_count": 13,
   "id": "426ce99b",
   "metadata": {},
   "outputs": [],
   "source": [
    "lr = LinearRegression()"
   ]
  },
  {
   "cell_type": "code",
   "execution_count": 14,
   "id": "bc79736d",
   "metadata": {},
   "outputs": [
    {
     "data": {
      "text/plain": [
       "LinearRegression()"
      ]
     },
     "execution_count": 14,
     "metadata": {},
     "output_type": "execute_result"
    }
   ],
   "source": [
    "lr.fit(train_poly, train_target)"
   ]
  },
  {
   "cell_type": "code",
   "execution_count": 15,
   "id": "b9a3f253",
   "metadata": {},
   "outputs": [
    {
     "name": "stdout",
     "output_type": "stream",
     "text": [
      "0.9903183436982125\n"
     ]
    }
   ],
   "source": [
    "print(lr.score(train_poly, train_target))"
   ]
  },
  {
   "cell_type": "code",
   "execution_count": 16,
   "id": "6a30588d",
   "metadata": {},
   "outputs": [
    {
     "name": "stdout",
     "output_type": "stream",
     "text": [
      "0.9714559911594155\n"
     ]
    }
   ],
   "source": [
    "print(lr.score(test_poly, test_target))"
   ]
  },
  {
   "cell_type": "markdown",
   "id": "6c958c2f",
   "metadata": {},
   "source": [
    "#### 특성을 더 많이 추가하기 (고차항 차수 지정)"
   ]
  },
  {
   "cell_type": "code",
   "execution_count": 17,
   "id": "a7c46b31",
   "metadata": {},
   "outputs": [
    {
     "name": "stdout",
     "output_type": "stream",
     "text": [
      "(42, 55)\n"
     ]
    }
   ],
   "source": [
    "poly = PolynomialFeatures(degree=5, include_bias=False)\n",
    "poly.fit(train_input)\n",
    "train_poly = poly.transform(train_input)\n",
    "test_poly = poly.transform(test_input)\n",
    "print(train_poly.shape)"
   ]
  },
  {
   "cell_type": "code",
   "execution_count": 18,
   "id": "e6b0c855",
   "metadata": {},
   "outputs": [
    {
     "name": "stdout",
     "output_type": "stream",
     "text": [
      "0.9999999999938143\n"
     ]
    }
   ],
   "source": [
    "lr.fit(train_poly, train_target)\n",
    "print(lr.score(train_poly, train_target))"
   ]
  },
  {
   "cell_type": "code",
   "execution_count": 19,
   "id": "75791d71",
   "metadata": {},
   "outputs": [
    {
     "name": "stdout",
     "output_type": "stream",
     "text": [
      "-144.40744532797535\n"
     ]
    }
   ],
   "source": [
    "print(lr.score(test_poly, test_target))   #과대적합 확인 가능"
   ]
  },
  {
   "cell_type": "markdown",
   "id": "0e286316",
   "metadata": {},
   "source": [
    "#### 규제 Regularization\n",
    "- 머신러닝 모델이 훈련 세트를 과도하게 훈련하는 것을 방지하기 위해 고의적으로 훼방을 놓는 것\n",
    "- 선형 회귀 모델의 경우, 특성에 곱해지는 계수 또는 기울기의 크기를 작게 만들어 규제함\n",
    "- 과도한 학습보다, 보편적인 패턴을 찾아내는 것이 더 좋음\n",
    "<br><br>\n",
    "- 특성의 scale을 맞춰주어야 공정한 제어가 가능함. 따라서 정규화 과정을 거쳐야 함\n",
    "- 정규화에는 StandardScaler 사용\n",
    "\n",
    "#### 규제 모델\n",
    "- 선형 회귀 모델에 규제를 추가한 모델 : 릿지 / 라쏘 / 엘라스틱 넷\n",
    "- 1) 릿지 : 계수를 제곱한 값을 기준으로 규제 적용 <br>\n",
    "  2) 라쏘 : 계수의 절대값을 기준으로 규제 적용, (덜 중요한)계수의 크기를 아예 0으로 만들 수도 있음 <br>\n",
    "  3) 엘라스틱 넷 : 릿지회귀와 라쏘회귀를 절충한 모델\n",
    "  <br><br>\n",
    "- 일반적으로 릿지를 기본으로 하지만, 모델에서 쓰이는 변수가 몇 개 안된다고 판단된다면 라쏘나 엘라스틱 넷이 더 나을 수 있음 <br>\n",
    "  다중공선성이 의심된다면 엘라스틱 넷이 더 좋을 듯"
   ]
  },
  {
   "cell_type": "markdown",
   "id": "becd830f",
   "metadata": {},
   "source": [
    "#### 정규화 StandardScaler"
   ]
  },
  {
   "cell_type": "code",
   "execution_count": 20,
   "id": "4e9d38f2",
   "metadata": {},
   "outputs": [],
   "source": [
    "from sklearn.preprocessing import StandardScaler"
   ]
  },
  {
   "cell_type": "code",
   "execution_count": 21,
   "id": "98d5c05f",
   "metadata": {},
   "outputs": [],
   "source": [
    "ss = StandardScaler()\n",
    "ss.fit(train_poly)\n",
    "train_scaled = ss.transform(train_poly)\n",
    "test_scaled = ss.transform(test_poly)"
   ]
  },
  {
   "cell_type": "markdown",
   "id": "79a078d0",
   "metadata": {},
   "source": [
    "#### 릿지 회귀 Ridge"
   ]
  },
  {
   "cell_type": "code",
   "execution_count": 22,
   "id": "be7e61fa",
   "metadata": {},
   "outputs": [],
   "source": [
    "from sklearn.linear_model import Ridge"
   ]
  },
  {
   "cell_type": "code",
   "execution_count": 23,
   "id": "a06f414c",
   "metadata": {},
   "outputs": [
    {
     "name": "stdout",
     "output_type": "stream",
     "text": [
      "0.9896101671037343\n"
     ]
    }
   ],
   "source": [
    "ridge = Ridge()\n",
    "ridge.fit(train_scaled, train_target)\n",
    "print(ridge.score(train_scaled, train_target))"
   ]
  },
  {
   "cell_type": "code",
   "execution_count": 24,
   "id": "bb60e36e",
   "metadata": {},
   "outputs": [
    {
     "name": "stdout",
     "output_type": "stream",
     "text": [
      "0.9790693977615386\n"
     ]
    }
   ],
   "source": [
    "print(ridge.score(test_scaled, test_target))"
   ]
  },
  {
   "cell_type": "markdown",
   "id": "6479948f",
   "metadata": {},
   "source": [
    "#### Ridge hyperparameter 조절\n",
    "- alpha 값에 대한 $R^2$ 값의 그래프 <br>\n",
    "  => 훈련 세트와 테스트 세트의 점수가 가장 가까운 지점이 최적의 alpha 값"
   ]
  },
  {
   "cell_type": "code",
   "execution_count": 25,
   "id": "40a42c91",
   "metadata": {},
   "outputs": [],
   "source": [
    "import matplotlib.pyplot as plt\n",
    "train_score = []\n",
    "test_score = []"
   ]
  },
  {
   "cell_type": "code",
   "execution_count": 26,
   "id": "a450d242",
   "metadata": {},
   "outputs": [],
   "source": [
    "alpha_list = [0.001, 0.01, 0.1, 1, 10, 100]\n",
    "for alpha in alpha_list:\n",
    "    ridge = Ridge(alpha = alpha)\n",
    "    ridge.fit(train_scaled, train_target)\n",
    "    train_score.append(ridge.score(train_scaled, train_target))\n",
    "    test_score.append(ridge.score(test_scaled, test_target))"
   ]
  },
  {
   "cell_type": "code",
   "execution_count": 27,
   "id": "267eff25",
   "metadata": {},
   "outputs": [
    {
     "data": {
      "image/png": "[encoded data removed]",
      "text/plain": [
       "<Figure size 432x288 with 1 Axes>"
      ]
     },
     "metadata": {
      "needs_background": "light"
     },
     "output_type": "display_data"
    }
   ],
   "source": [
    "plt.plot(np.log10(alpha_list),train_score)\n",
    "plt.plot(np.log10(alpha_list),test_score)\n",
    "plt.xlabel('alpha')\n",
    "plt.ylabel('$R^2$')\n",
    "plt.show()"
   ]
  },
  {
   "cell_type": "code",
   "execution_count": 28,
   "id": "43aaabcf",
   "metadata": {},
   "outputs": [
    {
     "name": "stdout",
     "output_type": "stream",
     "text": [
      "0.9903815817570368\n",
      "0.9827976465386896\n"
     ]
    }
   ],
   "source": [
    "ridge = Ridge(alpha=0.1)\n",
    "ridge.fit(train_scaled, train_target)\n",
    "print(ridge.score(train_scaled, train_target))\n",
    "print(ridge.score(test_scaled, test_target))"
   ]
  },
  {
   "cell_type": "markdown",
   "id": "4f510fb8",
   "metadata": {},
   "source": [
    "#### 라쏘 회귀 Lasso"
   ]
  },
  {
   "cell_type": "code",
   "execution_count": 29,
   "id": "24bd873f",
   "metadata": {},
   "outputs": [],
   "source": [
    "from sklearn.linear_model import Lasso"
   ]
  },
  {
   "cell_type": "code",
   "execution_count": 30,
   "id": "3310d237",
   "metadata": {},
   "outputs": [
    {
     "name": "stdout",
     "output_type": "stream",
     "text": [
      "0.989789897208096\n"
     ]
    }
   ],
   "source": [
    "lasso = Lasso()\n",
    "lasso.fit(train_scaled, train_target)\n",
    "print(lasso.score(train_scaled, train_target))"
   ]
  },
  {
   "cell_type": "code",
   "execution_count": 31,
   "id": "b1a71449",
   "metadata": {},
   "outputs": [
    {
     "name": "stdout",
     "output_type": "stream",
     "text": [
      "0.9800593698421884\n"
     ]
    }
   ],
   "source": [
    "print(lasso.score(test_scaled, test_target))"
   ]
  },
  {
   "cell_type": "markdown",
   "id": "1feda7c0",
   "metadata": {},
   "source": [
    "#### Lasso hyperparameter 조절\n",
    "- alpha 값에 대한 $R^2$ 값의 그래프 <br>\n",
    "  => 훈련 세트와 테스트 세트의 점수가 가장 가까운 지점이 최적의 alpha 값"
   ]
  },
  {
   "cell_type": "code",
   "execution_count": 32,
   "id": "7390191a",
   "metadata": {},
   "outputs": [
    {
     "name": "stderr",
     "output_type": "stream",
     "text": [
      "C:\\Users\\haeun\\anaconda3\\lib\\site-packages\\sklearn\\linear_model\\_coordinate_descent.py:530: ConvergenceWarning: Objective did not converge. You might want to increase the number of iterations. Duality gap: 23364.075969939724, tolerance: 518.2793833333334\n",
      "  model = cd_fast.enet_coordinate_descent(\n",
      "C:\\Users\\haeun\\anaconda3\\lib\\site-packages\\sklearn\\linear_model\\_coordinate_descent.py:530: ConvergenceWarning: Objective did not converge. You might want to increase the number of iterations. Duality gap: 20251.975097475362, tolerance: 518.2793833333334\n",
      "  model = cd_fast.enet_coordinate_descent(\n",
      "C:\\Users\\haeun\\anaconda3\\lib\\site-packages\\sklearn\\linear_model\\_coordinate_descent.py:530: ConvergenceWarning: Objective did not converge. You might want to increase the number of iterations. Duality gap: 806.2370926335934, tolerance: 518.2793833333334\n",
      "  model = cd_fast.enet_coordinate_descent(\n"
     ]
    }
   ],
   "source": [
    "train_score = []\n",
    "test_score = []\n",
    "alpha_list = [0.001, 0.01, 0.1, 1, 10, 100]\n",
    "for alpha in alpha_list:\n",
    "    lasso = Lasso(alpha = alpha)\n",
    "    lasso.fit(train_scaled, train_target)\n",
    "    train_score.append(lasso.score(train_scaled, train_target))\n",
    "    test_score.append(lasso.score(test_scaled, test_target))"
   ]
  },
  {
   "cell_type": "code",
   "execution_count": 33,
   "id": "849f8ba3",
   "metadata": {},
   "outputs": [
    {
     "data": {
      "image/png": "[encoded data removed]",
      "text/plain": [
       "<Figure size 432x288 with 1 Axes>"
      ]
     },
     "metadata": {
      "needs_background": "light"
     },
     "output_type": "display_data"
    }
   ],
   "source": [
    "plt.plot(np.log10(alpha_list),train_score)\n",
    "plt.plot(np.log10(alpha_list),test_score)\n",
    "plt.xlabel('alpha')\n",
    "plt.ylabel('$R^2$')\n",
    "plt.show()"
   ]
  },
  {
   "cell_type": "code",
   "execution_count": 34,
   "id": "f927f9d8",
   "metadata": {},
   "outputs": [
    {
     "name": "stdout",
     "output_type": "stream",
     "text": [
      "0.9888067471131867\n",
      "0.9824470598706695\n"
     ]
    }
   ],
   "source": [
    "lasso = Lasso(alpha=10)\n",
    "lasso.fit(train_scaled, train_target)\n",
    "print(lasso.score(train_scaled, train_target))\n",
    "print(lasso.score(test_scaled, test_target))"
   ]
  },
  {
   "cell_type": "code",
   "execution_count": 35,
   "id": "bf1b5ef5",
   "metadata": {},
   "outputs": [
    {
     "name": "stdout",
     "output_type": "stream",
     "text": [
      "40\n"
     ]
    }
   ],
   "source": [
    "print(np.sum(lasso.coef_==0))   # 55의 특성 중 라쏘모델에서 쓰인 특성은 15개"
   ]
  }
 ],
 "metadata": {
  "kernelspec": {
   "display_name": "Python 3 (ipykernel)",
   "language": "python",
   "name": "python3"
  },
  "language_info": {
   "codemirror_mode": {
    "name": "ipython",
    "version": 3
   },
   "file_extension": ".py",
   "mimetype": "text/x-python",
   "name": "python",
   "nbconvert_exporter": "python",
   "pygments_lexer": "ipython3",
   "version": "3.9.7"
  }
 },
 "nbformat": 4,
 "nbformat_minor": 5
}
