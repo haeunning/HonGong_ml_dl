{
 "cells": [
  {
   "cell_type": "markdown",
   "id": "814530aa",
   "metadata": {},
   "source": [
    "# Chapter 04. 다양한 분류 알고리즘"
   ]
  },
  {
   "cell_type": "markdown",
   "id": "f5815334",
   "metadata": {},
   "source": [
    "## 04-2. 확률적 경사 하강법"
   ]
  },
  {
   "cell_type": "markdown",
   "id": "52bf5058",
   "metadata": {},
   "source": [
    "### 점진적 학습 알고리즘\n",
    "- 확률적 경사 하강법 (Stochastic Gradient Descent)\n",
    "<br> : 훈련 세트에서 랜덤하게 하나의 샘플을 선택하여 경사를 조금 내려가며 전체 샘플을 학습하는 것.\n",
    "<br> 이때 훈련 세트를 한 번 모두 사용하는 과정을 에포크 epoch 라고 함.\n",
    "<br> * 여러 개의 샘플을 사용해 경사 하강법을 하는 방식은 '미니배치 경사 하강법'(Minibatch Gradient Descent).\n",
    "<br> ** 극단적으로 한 번 경사로를 따라 전체 샘플을 사용해 경사 하강법을 하는 방식은 '배치 경사 하강법' (Batch Gradient Descent)."
   ]
  },
  {
   "cell_type": "markdown",
   "id": "6f5acc95",
   "metadata": {},
   "source": [
    "### 손실 함수 \n",
    "- 손실함수 Loss Function\n",
    "<br> : 어떤 문제에서 머신러닝 알고리즘이 얼마나 엉터리인지 측정하는 기준\n",
    "<br> : 손실함수의 값은 작을수록 좋음. 단 최소값은 알 수 없음.\n",
    "<br> * 손실함수는 미분가능해야 하므로 연속적이어야 한다."
   ]
  },
  {
   "cell_type": "markdown",
   "id": "ee0d4045",
   "metadata": {},
   "source": [
    "### 로지스틱 손실 함수\n",
    "- 로지스틱 손실 함수 Logistic Loss Function = 이진 크로스엔트로피 손실 함수 Binary Cross-Entropy Loss Fuction\n",
    "<br> * 타깃 =1 : -log(예측확률)\n",
    "<br> * 타깃 =0 : -log(1-예측확률)\n",
    "- 크로스엔트로피 손실 함수 Cross Entropy Loss Function : 다중 분류에서 사용하는 손실 함수"
   ]
  },
  {
   "cell_type": "markdown",
   "id": "270aac43",
   "metadata": {},
   "source": [
    "## SGDClassifier"
   ]
  },
  {
   "cell_type": "markdown",
   "id": "b8424fd9",
   "metadata": {},
   "source": [
    "#### 데이터 불러오기"
   ]
  },
  {
   "cell_type": "code",
   "execution_count": 1,
   "id": "0ab78bfd",
   "metadata": {},
   "outputs": [],
   "source": [
    "import pandas as pd"
   ]
  },
  {
   "cell_type": "code",
   "execution_count": 2,
   "id": "fdb76edc",
   "metadata": {},
   "outputs": [],
   "source": [
    "fish = pd.read_csv('http://bit.ly/fish_csv_data')"
   ]
  },
  {
   "cell_type": "code",
   "execution_count": 3,
   "id": "c1814ef6",
   "metadata": {},
   "outputs": [],
   "source": [
    "fish_input = fish[['Weight','Length','Diagonal','Height','Width']].to_numpy()\n",
    "fish_target = fish['Species'].to_numpy()"
   ]
  },
  {
   "cell_type": "markdown",
   "id": "20208645",
   "metadata": {},
   "source": [
    "#### 데이터 분할"
   ]
  },
  {
   "cell_type": "code",
   "execution_count": 4,
   "id": "dc457167",
   "metadata": {},
   "outputs": [],
   "source": [
    "from sklearn.model_selection import train_test_split"
   ]
  },
  {
   "cell_type": "code",
   "execution_count": 5,
   "id": "7204f501",
   "metadata": {},
   "outputs": [],
   "source": [
    "train_input, test_input, train_target, test_target = train_test_split(fish_input, fish_target, random_state=42)"
   ]
  },
  {
   "cell_type": "markdown",
   "id": "23d981bc",
   "metadata": {},
   "source": [
    "#### 표준화 전처리"
   ]
  },
  {
   "cell_type": "code",
   "execution_count": 6,
   "id": "738fda55",
   "metadata": {},
   "outputs": [],
   "source": [
    "from sklearn.preprocessing import StandardScaler"
   ]
  },
  {
   "cell_type": "code",
   "execution_count": 7,
   "id": "a1b35042",
   "metadata": {},
   "outputs": [],
   "source": [
    "ss = StandardScaler()"
   ]
  },
  {
   "cell_type": "code",
   "execution_count": 8,
   "id": "a7cffe04",
   "metadata": {},
   "outputs": [
    {
     "data": {
      "text/plain": [
       "StandardScaler()"
      ]
     },
     "execution_count": 8,
     "metadata": {},
     "output_type": "execute_result"
    }
   ],
   "source": [
    "ss.fit(train_input)"
   ]
  },
  {
   "cell_type": "code",
   "execution_count": 9,
   "id": "17fd3d9b",
   "metadata": {},
   "outputs": [],
   "source": [
    "train_scaled = ss.transform(train_input)"
   ]
  },
  {
   "cell_type": "code",
   "execution_count": 10,
   "id": "d10bebf0",
   "metadata": {},
   "outputs": [],
   "source": [
    "test_scaled = ss.transform(test_input)"
   ]
  },
  {
   "cell_type": "markdown",
   "id": "51566de9",
   "metadata": {},
   "source": [
    "#### 확률적 경사 하강법 : SGDClassifier\n",
    "- loss = 'log' : 로지스틱 손실 함수\n",
    "- max_iter : 에포크 횟수 지정"
   ]
  },
  {
   "cell_type": "code",
   "execution_count": 11,
   "id": "adf7f646",
   "metadata": {},
   "outputs": [],
   "source": [
    "from sklearn.linear_model import SGDClassifier"
   ]
  },
  {
   "cell_type": "code",
   "execution_count": 12,
   "id": "a36f7f02",
   "metadata": {},
   "outputs": [],
   "source": [
    "sc = SGDClassifier(loss='log', max_iter=10, random_state=42)"
   ]
  },
  {
   "cell_type": "code",
   "execution_count": 13,
   "id": "76552192",
   "metadata": {},
   "outputs": [
    {
     "name": "stderr",
     "output_type": "stream",
     "text": [
      "C:\\Users\\haeun\\anaconda3\\lib\\site-packages\\sklearn\\linear_model\\_stochastic_gradient.py:574: ConvergenceWarning: Maximum number of iteration reached before convergence. Consider increasing max_iter to improve the fit.\n",
      "  warnings.warn(\"Maximum number of iteration reached before \"\n"
     ]
    },
    {
     "data": {
      "text/plain": [
       "SGDClassifier(loss='log', max_iter=10, random_state=42)"
      ]
     },
     "execution_count": 13,
     "metadata": {},
     "output_type": "execute_result"
    }
   ],
   "source": [
    "sc.fit(train_scaled, train_target)"
   ]
  },
  {
   "cell_type": "code",
   "execution_count": 14,
   "id": "cd41c14e",
   "metadata": {},
   "outputs": [
    {
     "name": "stdout",
     "output_type": "stream",
     "text": [
      "0.773109243697479\n"
     ]
    }
   ],
   "source": [
    "print(sc.score(train_scaled, train_target))"
   ]
  },
  {
   "cell_type": "code",
   "execution_count": 15,
   "id": "5ecb9980",
   "metadata": {},
   "outputs": [
    {
     "name": "stdout",
     "output_type": "stream",
     "text": [
      "0.775\n"
     ]
    }
   ],
   "source": [
    "print(sc.score(test_scaled, test_target))"
   ]
  },
  {
   "cell_type": "code",
   "execution_count": 16,
   "id": "e0f6ea2b",
   "metadata": {},
   "outputs": [
    {
     "data": {
      "text/plain": [
       "SGDClassifier(loss='log', max_iter=10, random_state=42)"
      ]
     },
     "execution_count": 16,
     "metadata": {},
     "output_type": "execute_result"
    }
   ],
   "source": [
    "sc.partial_fit(train_scaled, train_target)"
   ]
  },
  {
   "cell_type": "code",
   "execution_count": 17,
   "id": "01581a42",
   "metadata": {},
   "outputs": [
    {
     "name": "stdout",
     "output_type": "stream",
     "text": [
      "0.8151260504201681\n"
     ]
    }
   ],
   "source": [
    "print(sc.score(train_scaled, train_target))"
   ]
  },
  {
   "cell_type": "code",
   "execution_count": 18,
   "id": "28a0b52d",
   "metadata": {},
   "outputs": [
    {
     "name": "stdout",
     "output_type": "stream",
     "text": [
      "0.85\n"
     ]
    }
   ],
   "source": [
    "print(sc.score(test_scaled, test_target))"
   ]
  },
  {
   "attachments": {
    "image.png": {
     "image/png": "[encoded data removed]"
    }
   },
   "cell_type": "markdown",
   "id": "9e2320f8",
   "metadata": {},
   "source": [
    "## 에포크와 과대 / 과소 적합\n",
    "- 확률적 경사 하강법을 사용한 모델은 에포크 횟수에 따라 과소적합이나 과대적합이 될 수 있다.\n",
    "- 과대적합 시작하기 전에 훈련을 멈춰주어야 함. (조기 종료)\n",
    "\n",
    "![image.png](attachment:image.png)"
   ]
  },
  {
   "cell_type": "code",
   "execution_count": 19,
   "id": "4a527275",
   "metadata": {},
   "outputs": [],
   "source": [
    "import numpy as np"
   ]
  },
  {
   "cell_type": "code",
   "execution_count": 20,
   "id": "37baf5d3",
   "metadata": {},
   "outputs": [],
   "source": [
    "sc = SGDClassifier(loss='log', random_state=42)"
   ]
  },
  {
   "cell_type": "code",
   "execution_count": 21,
   "id": "55ab62aa",
   "metadata": {},
   "outputs": [],
   "source": [
    "train_score=[]"
   ]
  },
  {
   "cell_type": "code",
   "execution_count": 22,
   "id": "35637a44",
   "metadata": {},
   "outputs": [],
   "source": [
    "test_score=[]"
   ]
  },
  {
   "cell_type": "markdown",
   "id": "fdd1e161",
   "metadata": {},
   "source": [
    "#### classes\n",
    "- fit() 메서드를 사용하지 않고 partial_fit() 메서드만 사용하는 경우, <br>\n",
    " 훈련 세트에 있는 전체 클래스의 레이블을 partial_fit() 메서드에 전달해주어야 함."
   ]
  },
  {
   "cell_type": "code",
   "execution_count": 23,
   "id": "79106f12",
   "metadata": {},
   "outputs": [],
   "source": [
    "classes = np.unique(train_target)"
   ]
  },
  {
   "cell_type": "code",
   "execution_count": 24,
   "id": "bdef44a4",
   "metadata": {},
   "outputs": [],
   "source": [
    "for _ in range(0,300):\n",
    "    sc.partial_fit(train_scaled, train_target, classes=classes)\n",
    "    train_score.append(sc.score(train_scaled, train_target))\n",
    "    test_score.append(sc.score(test_scaled, test_target))"
   ]
  },
  {
   "cell_type": "code",
   "execution_count": 25,
   "id": "c1221d7f",
   "metadata": {},
   "outputs": [],
   "source": [
    "import matplotlib.pyplot as plt"
   ]
  },
  {
   "cell_type": "code",
   "execution_count": 26,
   "id": "e08b305c",
   "metadata": {},
   "outputs": [
    {
     "data": {
      "image/png": "[encoded data removed]",
      "text/plain": [
       "<Figure size 432x288 with 1 Axes>"
      ]
     },
     "metadata": {
      "needs_background": "light"
     },
     "output_type": "display_data"
    }
   ],
   "source": [
    "plt.plot(train_score)   # 파랑\n",
    "plt.plot(test_score)   # 주황\n",
    "plt.xlabel('epoch')\n",
    "plt.ylabel('accuracy')\n",
    "plt.show()"
   ]
  },
  {
   "cell_type": "code",
   "execution_count": 27,
   "id": "992475d1",
   "metadata": {},
   "outputs": [
    {
     "data": {
      "text/plain": [
       "SGDClassifier(loss='log', max_iter=100, random_state=42, tol=None)"
      ]
     },
     "execution_count": 27,
     "metadata": {},
     "output_type": "execute_result"
    }
   ],
   "source": [
    "sc = SGDClassifier(loss='log', max_iter=100, tol=None, random_state=42)   # tol=None : 최솟값 지정 X\n",
    "sc.fit(train_scaled, train_target)"
   ]
  },
  {
   "cell_type": "code",
   "execution_count": 28,
   "id": "c929dfee",
   "metadata": {},
   "outputs": [
    {
     "name": "stdout",
     "output_type": "stream",
     "text": [
      "0.957983193277311\n",
      "0.925\n"
     ]
    }
   ],
   "source": [
    "print(sc.score(train_scaled, train_target))\n",
    "print(sc.score(test_scaled, test_target))"
   ]
  },
  {
   "cell_type": "markdown",
   "id": "1f3e8b74",
   "metadata": {},
   "source": [
    "#### 힌지 손실 Hinge Loss \n",
    "- 서포트 벡터 머신에서 쓰는 손실 함수 SVM (Support Vector Machine)"
   ]
  },
  {
   "cell_type": "code",
   "execution_count": 29,
   "id": "f12b6d1e",
   "metadata": {},
   "outputs": [],
   "source": [
    "sc = SGDClassifier(loss='hinge', max_iter=100, tol=None, random_state=42)"
   ]
  },
  {
   "cell_type": "code",
   "execution_count": 30,
   "id": "3c2f4c55",
   "metadata": {},
   "outputs": [
    {
     "data": {
      "text/plain": [
       "SGDClassifier(max_iter=100, random_state=42, tol=None)"
      ]
     },
     "execution_count": 30,
     "metadata": {},
     "output_type": "execute_result"
    }
   ],
   "source": [
    "sc.fit(train_scaled, train_target)"
   ]
  },
  {
   "cell_type": "code",
   "execution_count": 31,
   "id": "50b3f71b",
   "metadata": {},
   "outputs": [
    {
     "name": "stdout",
     "output_type": "stream",
     "text": [
      "0.9495798319327731\n",
      "0.925\n"
     ]
    }
   ],
   "source": [
    "print(sc.score(train_scaled, train_target))\n",
    "print(sc.score(test_scaled, test_target))"
   ]
  }
 ],
 "metadata": {
  "kernelspec": {
   "display_name": "Python 3 (ipykernel)",
   "language": "python",
   "name": "python3"
  },
  "language_info": {
   "codemirror_mode": {
    "name": "ipython",
    "version": 3
   },
   "file_extension": ".py",
   "mimetype": "text/x-python",
   "name": "python",
   "nbconvert_exporter": "python",
   "pygments_lexer": "ipython3",
   "version": "3.9.7"
  }
 },
 "nbformat": 4,
 "nbformat_minor": 5
}
